{
 "cells": [
  {
   "cell_type": "code",
   "id": "initial_id",
   "metadata": {
    "collapsed": true,
    "ExecuteTime": {
     "end_time": "2024-07-14T13:31:16.297801Z",
     "start_time": "2024-07-14T13:31:16.290638Z"
    }
   },
   "source": [
    "from langchain_core.prompts import load_prompt\n",
    "from dotenv import load_dotenv\n",
    "load_dotenv(\"/home/kevin/projects/llmChatbot/.env\")"
   ],
   "outputs": [
    {
     "data": {
      "text/plain": [
       "True"
      ]
     },
     "execution_count": 36,
     "metadata": {},
     "output_type": "execute_result"
    }
   ],
   "execution_count": 36
  },
  {
   "metadata": {
    "ExecuteTime": {
     "end_time": "2024-07-14T13:31:17.998179Z",
     "start_time": "2024-07-14T13:31:17.988387Z"
    }
   },
   "cell_type": "code",
   "source": "prompt = load_prompt(\"prompt.yaml\")",
   "id": "4369198593baac47",
   "outputs": [],
   "execution_count": 37
  },
  {
   "metadata": {
    "ExecuteTime": {
     "end_time": "2024-07-14T13:31:18.832716Z",
     "start_time": "2024-07-14T13:31:18.825862Z"
    }
   },
   "cell_type": "code",
   "source": "prompt",
   "id": "18b449c8896b24e7",
   "outputs": [
    {
     "data": {
      "text/plain": [
       "PromptTemplate(input_variables=['character'], template='f1 서킷 중에서 가장 {character} 서킷은 무엇인가요?')"
      ]
     },
     "execution_count": 38,
     "metadata": {},
     "output_type": "execute_result"
    }
   ],
   "execution_count": 38
  },
  {
   "metadata": {},
   "cell_type": "markdown",
   "source": "",
   "id": "59f27a35595b8717"
  },
  {
   "metadata": {
    "ExecuteTime": {
     "end_time": "2024-07-14T13:31:19.004998Z",
     "start_time": "2024-07-14T13:31:19.000655Z"
    }
   },
   "cell_type": "code",
   "source": "from langchain_core.prompts import ChatMessagePromptTemplate,ChatPromptTemplate",
   "id": "26c243f109caec63",
   "outputs": [],
   "execution_count": 39
  },
  {
   "metadata": {
    "ExecuteTime": {
     "end_time": "2024-07-14T13:31:19.171308Z",
     "start_time": "2024-07-14T13:31:19.166615Z"
    }
   },
   "cell_type": "code",
   "source": [
    "chat_template = ChatPromptTemplate.from_messages(\n",
    "    [\n",
    "        # role, message\n",
    "        (\"system\", \"당신은 친절한 AI 어시스턴트입니다. 당신의 이름은 {name} 입니다.\"),\n",
    "        (\"human\", \"반가워요!\"),\n",
    "        (\"ai\", \"안녕하세요! 무엇을 도와드릴까요?\"),\n",
    "        (\"human\", \"{user_input}\"),\n",
    "    ]\n",
    ")"
   ],
   "id": "93165a15f8750f55",
   "outputs": [],
   "execution_count": 40
  },
  {
   "metadata": {
    "ExecuteTime": {
     "end_time": "2024-07-14T13:33:13.773758Z",
     "start_time": "2024-07-14T13:33:13.768494Z"
    }
   },
   "cell_type": "code",
   "source": "test_prompt = load_prompt(\"test.yaml\")",
   "id": "50806e7d6bebbe28",
   "outputs": [],
   "execution_count": 50
  },
  {
   "metadata": {
    "ExecuteTime": {
     "end_time": "2024-07-14T13:33:14.213865Z",
     "start_time": "2024-07-14T13:33:14.208817Z"
    }
   },
   "cell_type": "code",
   "source": "test_prompt",
   "id": "1afcf7525aaa99d",
   "outputs": [
    {
     "data": {
      "text/plain": [
       "ChatPromptTemplate(input_variables=['name'], messages=[HumanMessagePromptTemplate(prompt=PromptTemplate(input_variables=['name'], template='당신은 친절한 AI 어시스턴트입니다. 당신의 이름은 {name} 입니다.'))])"
      ]
     },
     "execution_count": 51,
     "metadata": {},
     "output_type": "execute_result"
    }
   ],
   "execution_count": 51
  },
  {
   "metadata": {
    "ExecuteTime": {
     "end_time": "2024-07-14T13:31:20.291858Z",
     "start_time": "2024-07-14T13:31:20.285690Z"
    }
   },
   "cell_type": "code",
   "source": "test_prompt.input_variables",
   "id": "f3080f124477148a",
   "outputs": [
    {
     "data": {
      "text/plain": [
       "['name']"
      ]
     },
     "execution_count": 43,
     "metadata": {},
     "output_type": "execute_result"
    }
   ],
   "execution_count": 43
  },
  {
   "metadata": {
    "ExecuteTime": {
     "end_time": "2024-07-14T13:59:33.407268Z",
     "start_time": "2024-07-14T13:59:33.402621Z"
    }
   },
   "cell_type": "code",
   "source": [
    "from langchain_openai import ChatOpenAI\n",
    "from langchain_core.output_parsers import StrOutputParser"
   ],
   "id": "1cec73998cfa99e1",
   "outputs": [],
   "execution_count": 54
  },
  {
   "metadata": {
    "ExecuteTime": {
     "end_time": "2024-07-14T13:39:55.429981Z",
     "start_time": "2024-07-14T13:39:55.341743Z"
    }
   },
   "cell_type": "code",
   "source": "llm = ChatOpenAI(model_kwargs={\"stream\":True})",
   "id": "b4f9d28701b246d2",
   "outputs": [],
   "execution_count": 53
  },
  {
   "metadata": {
    "ExecuteTime": {
     "end_time": "2024-07-14T13:59:41.182631Z",
     "start_time": "2024-07-14T13:59:41.178673Z"
    }
   },
   "cell_type": "code",
   "source": "chain = test_prompt | llm| StrOutputParser()",
   "id": "fd54f349446b006a",
   "outputs": [],
   "execution_count": 55
  },
  {
   "metadata": {
    "ExecuteTime": {
     "end_time": "2024-07-14T13:32:17.187549Z",
     "start_time": "2024-07-14T13:32:15.682492Z"
    }
   },
   "cell_type": "code",
   "source": "chain.invoke(\"너이름은 악어야 내 이름은 뭐야?\").content",
   "id": "5cb981f7654d1875",
   "outputs": [
    {
     "data": {
      "text/plain": [
       "'안녕하세요! 제 이름은 악어야, 여러분의 이름을 알려주세요. 저를 통해 도와드릴 일이 있으면 언제든지 말씀해주세요.'"
      ]
     },
     "execution_count": 47,
     "metadata": {},
     "output_type": "execute_result"
    }
   ],
   "execution_count": 47
  },
  {
   "metadata": {
    "ExecuteTime": {
     "end_time": "2024-07-14T14:00:21.837731Z",
     "start_time": "2024-07-14T14:00:20.554404Z"
    }
   },
   "cell_type": "code",
   "source": [
    "answer = chain.stream(\"너이름은 악어야 내 이름은 뭐야?\")\n",
    "for token in answer:\n",
    "    print(token,end=\"\",flush=True)\n"
   ],
   "id": "57bc0d1e878e1cc5",
   "outputs": [
    {
     "name": "stdout",
     "output_type": "stream",
     "text": [
      "안녕하세요! 제 이름은 악어야입니다. 여러분은 무엇을 도와드릴까요?"
     ]
    }
   ],
   "execution_count": 56
  },
  {
   "metadata": {},
   "cell_type": "code",
   "outputs": [],
   "execution_count": null,
   "source": "",
   "id": "af0a45ba9bdc28d7"
  }
 ],
 "metadata": {
  "kernelspec": {
   "display_name": "Python 3",
   "language": "python",
   "name": "python3"
  },
  "language_info": {
   "codemirror_mode": {
    "name": "ipython",
    "version": 2
   },
   "file_extension": ".py",
   "mimetype": "text/x-python",
   "name": "python",
   "nbconvert_exporter": "python",
   "pygments_lexer": "ipython2",
   "version": "2.7.6"
  }
 },
 "nbformat": 4,
 "nbformat_minor": 5
}
